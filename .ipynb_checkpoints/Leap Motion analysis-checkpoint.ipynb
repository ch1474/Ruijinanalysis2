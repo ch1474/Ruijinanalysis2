{
 "cells": [
  {
   "cell_type": "markdown",
   "id": "073dea17",
   "metadata": {},
   "source": [
    "# Introduction"
   ]
  },
  {
   "cell_type": "markdown",
   "id": "82a06720",
   "metadata": {},
   "source": [
    "This notebook has been created to explore and analyse the data to provide a measure of quality. This is particulary important as tracking is not robust for this viewing angle and object interaction.    "
   ]
  },
  {
   "cell_type": "markdown",
   "id": "216e601b",
   "metadata": {},
   "source": [
    "Each row is a tracking event recorded by the leap motion. The structure follows the LEAP_TRACKING_EVENT struct as defined in the v4.0 docs(albeit with a few spelling mistakes e.g. roatation -> rotation).\n",
    "\n",
    "See the documentation here:\n",
    "\n",
    "https://developer.leapmotion.com/documentation/v4/group___structs.html#struct_l_e_a_p___t_r_a_c_k_i_n_g___e_v_e_n_t "
   ]
  },
  {
   "cell_type": "markdown",
   "id": "b569db3f",
   "metadata": {},
   "source": [
    "# A look at the data"
   ]
  },
  {
   "cell_type": "code",
   "execution_count": 1,
   "id": "79f1776c",
   "metadata": {},
   "outputs": [],
   "source": [
    "import pandas as pd\n",
    "\n",
    "leap_df = pd.read_csv('leap_sample.csv')\n",
    "\n",
    "num_cols = leap_df"
   ]
  },
  {
   "cell_type": "code",
   "execution_count": 2,
   "id": "26edaa5c",
   "metadata": {},
   "outputs": [
    {
     "name": "stdout",
     "output_type": "stream",
     "text": [
      "   frame_id      timestamp  tracking_frame_id  nHands  hand_id hand_type  \\\n",
      "0     81149  2067580845572              81149       1       28     right   \n",
      "1     81150  2067580855461              81150       1       28     right   \n",
      "2     81151  2067580865438              81151       1       28     right   \n",
      "3     81152  2067580874971              81152       1       28     right   \n",
      "4     81153  2067580884849              81153       1       28     right   \n",
      "\n",
      "   visible_time  pinch_distance  grab_angle  pinch_strength  ...  \\\n",
      "0      78560792        6.915391    3.141593             1.0  ...   \n",
      "1      78570680        6.925322    3.141593             1.0  ...   \n",
      "2      78580656        6.932325    3.141593             1.0  ...   \n",
      "3      78590184        6.903727    3.141593             1.0  ...   \n",
      "4      78600064        6.871240    3.141593             1.0  ...   \n",
      "\n",
      "   pinky_distal_prev_joint_z  pinky_distal_next_joint_x  \\\n",
      "0                 118.134399                  44.851452   \n",
      "1                 118.087975                  44.794006   \n",
      "2                 118.019073                  44.716393   \n",
      "3                 117.926277                  44.693241   \n",
      "4                 117.812447                  44.669552   \n",
      "\n",
      "   pinky_distal_next_joint_y  pinky_distal_next_joint_z  pinky_distal_width  \\\n",
      "0                 328.721527                 129.248672           14.861184   \n",
      "1                 328.713837                 129.198792           14.861184   \n",
      "2                 328.703461                 129.133224           14.861184   \n",
      "3                 328.646484                 129.043915           14.861184   \n",
      "4                 328.644745                 128.935074           14.861184   \n",
      "\n",
      "   pinky_distal_roatation_w  pinky_distal_roatation_x  \\\n",
      "0                  0.158877                  0.513562   \n",
      "1                  0.159464                  0.512999   \n",
      "2                  0.158964                  0.512940   \n",
      "3                  0.158959                  0.512401   \n",
      "4                  0.159130                  0.511300   \n",
      "\n",
      "   pinky_distal_roatation_y  pinky_distal_roatation_z   framerate  \n",
      "0                  0.838803                  0.086147  101.686241  \n",
      "1                  0.839057                  0.085945  101.659042  \n",
      "2                  0.839175                  0.086071  101.589531  \n",
      "3                  0.839590                  0.085241  101.743568  \n",
      "4                  0.840384                  0.083694  101.719063  \n",
      "\n",
      "[5 rows x 273 columns]\n"
     ]
    }
   ],
   "source": []
  },
  {
   "cell_type": "code",
   "execution_count": null,
   "id": "fb041d64",
   "metadata": {},
   "outputs": [],
   "source": []
  }
 ],
 "metadata": {
  "kernelspec": {
   "display_name": "Python 3",
   "language": "python",
   "name": "python3"
  },
  "language_info": {
   "codemirror_mode": {
    "name": "ipython",
    "version": 3
   },
   "file_extension": ".py",
   "mimetype": "text/x-python",
   "name": "python",
   "nbconvert_exporter": "python",
   "pygments_lexer": "ipython3",
   "version": "3.8.8"
  }
 },
 "nbformat": 4,
 "nbformat_minor": 5
}
